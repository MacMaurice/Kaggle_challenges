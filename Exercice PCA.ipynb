{
  "cells": [
    {
      "cell_type": "markdown",
      "metadata": {
        "id": "view-in-github",
        "colab_type": "text"
      },
      "source": [
        "<a href=\"https://colab.research.google.com/github/MacMaurice/Kaggle_challenges/blob/main/Exercice%20PCA.ipynb\" target=\"_parent\"><img src=\"https://colab.research.google.com/assets/colab-badge.svg\" alt=\"Open In Colab\"/></a>"
      ]
    },
    {
      "cell_type": "markdown",
      "id": "84e78c55-cfaf-41cb-97c2-edffafa3d421",
      "metadata": {
        "tags": [],
        "id": "84e78c55-cfaf-41cb-97c2-edffafa3d421"
      },
      "source": [
        "# INTRODUCTION\n",
        "\n",
        "Ce notebook a pour objectif d'illustrer les concepts de base de l'Analyse en Composante Principale.\n",
        "* Des données seront simulées\n",
        "* Une Analyse en Composante Principale sera réalisée (et comparée avec une SVD)\n",
        "* Les projections seront étudiées et visualisées"
      ]
    },
    {
      "cell_type": "markdown",
      "id": "83de8ce0-dcf7-43ab-95b6-312f319643be",
      "metadata": {
        "id": "83de8ce0-dcf7-43ab-95b6-312f319643be"
      },
      "source": [
        "____"
      ]
    },
    {
      "cell_type": "markdown",
      "id": "ed957912-c148-412e-8784-9f454889b7e4",
      "metadata": {
        "tags": [],
        "id": "ed957912-c148-412e-8784-9f454889b7e4"
      },
      "source": [
        "# IMPORTS DE LIBRAIRIES PYTHON"
      ]
    },
    {
      "cell_type": "code",
      "execution_count": 116,
      "id": "17def4d7-9c4b-45a8-99a1-08941c2edd63",
      "metadata": {
        "tags": [],
        "id": "17def4d7-9c4b-45a8-99a1-08941c2edd63"
      },
      "outputs": [],
      "source": [
        "import matplotlib.pyplot as plt\n",
        "%matplotlib inline\n",
        "plt.style.use(\"ggplot\")\n",
        "\n",
        "import numpy as np\n",
        "import random\n",
        "from sklearn.decomposition import PCA"
      ]
    },
    {
      "cell_type": "markdown",
      "id": "0c4f22f3-72b4-441b-af75-baaa876261da",
      "metadata": {
        "id": "0c4f22f3-72b4-441b-af75-baaa876261da"
      },
      "source": [
        "# SIMULATION DE DONNEES"
      ]
    },
    {
      "cell_type": "markdown",
      "id": "6cf68400-bf48-470c-a124-2f2f483dca46",
      "metadata": {
        "id": "6cf68400-bf48-470c-a124-2f2f483dca46"
      },
      "source": [
        "## Exercice"
      ]
    },
    {
      "cell_type": "markdown",
      "id": "53386922-6399-4be5-a1d2-b3ff812012fe",
      "metadata": {
        "id": "53386922-6399-4be5-a1d2-b3ff812012fe"
      },
      "source": [
        "Nous simulons un exemple simple en 2 dimesnions d'un modèle de mélange Gaussien (mixture de Gaussienne) dans $\\mathbb{R}^2$."
      ]
    },
    {
      "cell_type": "markdown",
      "id": "bd79294d-c57e-42aa-aa5a-cc0d4899b2c8",
      "metadata": {
        "id": "bd79294d-c57e-42aa-aa5a-cc0d4899b2c8"
      },
      "source": [
        "Pour cela, nous considérons une mixture avec une densité :\n",
        "$$\n",
        "g(x) :\\;= \\sum_{k=1}^{3} w_k f_k(x,\\mu_k,\\Sigma_k),\n",
        "$$\n",
        "où $f_k(x,\\mu_k,\\Sigma_k)$ désigne la densité gaussienne dans $\\mathbb{R}^2$ de moyenne $\\mu_k$ de covariance $\\Sigma_k$.\n",
        "avec par exemple :"
      ]
    },
    {
      "cell_type": "markdown",
      "id": "e2b87f82-3df0-4334-83fb-25f582055b2a",
      "metadata": {
        "id": "e2b87f82-3df0-4334-83fb-25f582055b2a"
      },
      "source": [
        "* $\\mu_1 = (0,0)^T$\n",
        "et\n",
        "$\n",
        "\\Sigma_1\n",
        "\\begin{pmatrix}\n",
        "1 & -0.99 \\\\\n",
        "-0.99 & 1\n",
        "\\end{pmatrix}\n",
        "$"
      ]
    },
    {
      "cell_type": "markdown",
      "id": "d31a748e-6df9-4ee3-92a6-4d4c96eb991d",
      "metadata": {
        "id": "d31a748e-6df9-4ee3-92a6-4d4c96eb991d"
      },
      "source": [
        "* $\\mu_2 = (2,2)^T$\n",
        "et\n",
        "$\n",
        "\\Sigma_2\n",
        "\\begin{pmatrix}\n",
        "1 & -0.99 \\\\\n",
        "-0.99 & 1\n",
        "\\end{pmatrix}\n",
        "$"
      ]
    },
    {
      "cell_type": "markdown",
      "id": "1d119042-e1c3-48d0-baa2-9188829936e8",
      "metadata": {
        "id": "1d119042-e1c3-48d0-baa2-9188829936e8"
      },
      "source": [
        "* $\\mu_3 = (4,4)^T$\n",
        "et\n",
        "$\n",
        "\\Sigma_1\n",
        "\\begin{pmatrix}\n",
        "1 & -0.99 \\\\\n",
        "-0.99 & 1\n",
        "\\end{pmatrix}\n",
        "$"
      ]
    },
    {
      "cell_type": "markdown",
      "id": "08e6f021-59d4-4b28-b2d7-012529f0ca22",
      "metadata": {
        "id": "08e6f021-59d4-4b28-b2d7-012529f0ca22"
      },
      "source": [
        "## Rappel :\n",
        "\n",
        "Un modèle de mélange peut être vu comme la loi marginale de la variable $X$ pour un couple $(Z, X)$ tel que\n",
        "\n",
        "> 1. $Z$ est un vecteur binaire à valeur dans $\\{0,1\\}^K$ distribué selon la loi multinomiale d’ordre 1 et de paramètre $(w_1, . . . , w_k)$.\n",
        ">\n",
        "> 2. pour tout $k$, le vecteur conditionnel $(X|Z_k = 1)$ à valeur dans X est distribué selon $f_k$.\n",
        "\n",
        "____\n",
        "> **Ainsi, générer une donnée $x$ selon un modèle de mélange revient à**\n",
        "> 1. **choisir l’une des composantes du mélange (la composante k est choisie avec probabilité $w_k$)** puis\n",
        "> 2. **générer x selon $f_k$.**\n",
        "___"
      ]
    },
    {
      "cell_type": "markdown",
      "id": "d8a8c82b-efed-48e9-bff8-c0d6e73dc456",
      "metadata": {
        "tags": [],
        "id": "d8a8c82b-efed-48e9-bff8-c0d6e73dc456"
      },
      "source": [
        "## Algorithme"
      ]
    },
    {
      "cell_type": "markdown",
      "id": "7d0fae05-865c-4560-90b2-5710f749f1ce",
      "metadata": {
        "id": "7d0fae05-865c-4560-90b2-5710f749f1ce"
      },
      "source": [
        ">For $i$ in $1 \\ldots n$:\n",
        ">> * Select a mixture component $k \\in \\{1,\\ldots,K\\}$ according wieights $w_1,\\ldots,w_k$\n",
        ">>\n",
        ">>   $k \\leftarrow random.choices\\Big(\\{1,\\ldots,K\\},(w_1,\\ldots,w_k),1\\Big)$\n",
        ">> * Draw a sample $x$ following the distribution $f_k$\n",
        ">>\n",
        ">>   $x \\leftarrow random.multivariate\\_normal\\Big(\\mu_k,\\Sigma_k,1\\Big)$\n",
        ">> * Store $(k,x)$"
      ]
    },
    {
      "cell_type": "markdown",
      "id": "cf1e40bd-ecd9-4e28-ae27-e5eaaa6c95a3",
      "metadata": {
        "id": "cf1e40bd-ecd9-4e28-ae27-e5eaaa6c95a3"
      },
      "source": [
        "## Simuler 500 variable"
      ]
    },
    {
      "cell_type": "code",
      "execution_count": 117,
      "id": "a9297b95-169d-4ab0-8a44-dac2c4affc28",
      "metadata": {
        "tags": [],
        "id": "a9297b95-169d-4ab0-8a44-dac2c4affc28"
      },
      "outputs": [],
      "source": [
        "# For reproductibility\n",
        "\n",
        "random.seed(42)\n",
        "\n",
        "n = 500\n",
        "NumberOfMixtures = 3\n",
        "\n",
        "w = [0.3, 0.4, 0.3]\n",
        "\n",
        "list_Mu = [ [0,0], [2,2], [4,4]]\n",
        "\n",
        "list_Sigma = [\n",
        "    [[1, -.99], [-.99, 1]],\n",
        "    [[1, -.99], [-.99, 1]],\n",
        "    [[1, -.99], [-.99, 1]]\n",
        "]\n",
        "\n",
        "# Initialize lists\n",
        "list_x = []\n",
        "list_k = []\n",
        "\n",
        "\n",
        "# LOOP\n",
        "for i in range(n):\n",
        "  k = random.choices(list(range(NumberOfMixtures)),weights = w, k=1)[0]\n",
        "  x = np.random.multivariate_normal(list_Mu[k],list_Sigma[k],1)[0]\n",
        "  list_k += [k]\n",
        "  list_x += [x]\n",
        "\n",
        "X = np.array(list_x)"
      ]
    },
    {
      "cell_type": "markdown",
      "id": "a908fa18-832b-4817-bdbc-c9bddb2071ef",
      "metadata": {
        "id": "a908fa18-832b-4817-bdbc-c9bddb2071ef"
      },
      "source": [
        "-> Réprésenter les données graphiqument (plt.plot)"
      ]
    },
    {
      "cell_type": "code",
      "execution_count": 118,
      "id": "0585c2cc-bbc7-49a6-9571-8f0ff8cd7b33",
      "metadata": {
        "id": "0585c2cc-bbc7-49a6-9571-8f0ff8cd7b33",
        "outputId": "361a0193-aaef-4372-ae39-57a479cc74b3",
        "colab": {
          "base_uri": "https://localhost:8080/",
          "height": 447
        }
      },
      "outputs": [
        {
          "output_type": "execute_result",
          "data": {
            "text/plain": [
              "[<matplotlib.lines.Line2D at 0x7be7552dd7e0>]"
            ]
          },
          "metadata": {},
          "execution_count": 118
        },
        {
          "output_type": "display_data",
          "data": {
            "text/plain": [
              "<Figure size 640x480 with 1 Axes>"
            ],
            "image/png": "[encoded data removed]"
          },
          "metadata": {}
        }
      ],
      "source": [
        "plt.plot(X[:,0], X[:,1],'.',alpha = 0.4)"
      ]
    },
    {
      "cell_type": "markdown",
      "id": "c2c6c72e-6492-46a0-9520-c19fb4022bda",
      "metadata": {
        "id": "c2c6c72e-6492-46a0-9520-c19fb4022bda"
      },
      "source": [
        "## Projeter et Visulaiser sur chacun des axes"
      ]
    },
    {
      "cell_type": "code",
      "source": [
        "plt.figure(figsize=(12, 5))\n",
        "plt.subplot(1,2,1)\n",
        "plt.plot(X[:,0], n*[0],'.', alpha = 0.5)\n",
        "plt.subplot(1,2,2)\n",
        "plt.plot(X[:,1], n*[0],'.', alpha = 0.5)"
      ],
      "metadata": {
        "id": "RTXpopqc-pJ1",
        "outputId": "783d47a6-c993-4297-dc4d-0e1e497b5c86",
        "colab": {
          "base_uri": "https://localhost:8080/",
          "height": 462
        }
      },
      "id": "RTXpopqc-pJ1",
      "execution_count": 119,
      "outputs": [
        {
          "output_type": "execute_result",
          "data": {
            "text/plain": [
              "[<matplotlib.lines.Line2D at 0x7be755181a50>]"
            ]
          },
          "metadata": {},
          "execution_count": 119
        },
        {
          "output_type": "display_data",
          "data": {
            "text/plain": [
              "<Figure size 1200x500 with 2 Axes>"
            ],
            "image/png": "[encoded data removed]"
          },
          "metadata": {}
        }
      ]
    },
    {
      "cell_type": "markdown",
      "id": "7838e1cb-6cd9-4bb6-a67c-53aca80b3d8c",
      "metadata": {
        "id": "7838e1cb-6cd9-4bb6-a67c-53aca80b3d8c"
      },
      "source": [
        "Tracer l'histogramme afin d'étudier la distribution des points sur les axes"
      ]
    },
    {
      "cell_type": "code",
      "execution_count": 120,
      "id": "0daba738-2dc2-4a74-9dd3-682ce79a35f9",
      "metadata": {
        "id": "0daba738-2dc2-4a74-9dd3-682ce79a35f9",
        "outputId": "cf803a63-b669-4b61-cded-b685fcc626e2",
        "colab": {
          "base_uri": "https://localhost:8080/",
          "height": 587
        }
      },
      "outputs": [
        {
          "output_type": "execute_result",
          "data": {
            "text/plain": [
              "(array([ 2.,  3., 13., 26., 36., 25., 38., 34., 45., 45., 49., 40., 24.,\n",
              "        37., 32., 21., 19.,  8.,  2.,  0.,  0.,  1.]),\n",
              " array([-2.73746968, -2.2596887 , -1.78190771, -1.30412673, -0.82634575,\n",
              "        -0.34856476,  0.12921622,  0.6069972 ,  1.08477818,  1.56255917,\n",
              "         2.04034015,  2.51812113,  2.99590212,  3.4736831 ,  3.95146408,\n",
              "         4.42924506,  4.90702605,  5.38480703,  5.86258801,  6.34036899,\n",
              "         6.81814998,  7.29593096,  7.77371194]),\n",
              " <BarContainer object of 22 artists>)"
            ]
          },
          "metadata": {},
          "execution_count": 120
        },
        {
          "output_type": "display_data",
          "data": {
            "text/plain": [
              "<Figure size 1200x500 with 2 Axes>"
            ],
            "image/png": "[encoded data removed]"
          },
          "metadata": {}
        }
      ],
      "source": [
        "plt.figure(figsize=(12, 5))\n",
        "plt.subplot(1,2,1)\n",
        "plt.hist(X[:,0], bins = int(np.sqrt(n)))\n",
        "plt.subplot(1,2,2)\n",
        "plt.hist(X[:,1], bins = int(np.sqrt(n)))"
      ]
    },
    {
      "cell_type": "markdown",
      "id": "ce17d182-9198-4762-b76e-8100ea0cb649",
      "metadata": {
        "id": "ce17d182-9198-4762-b76e-8100ea0cb649"
      },
      "source": [
        "> **Remarque**\n",
        "> * Quand on projette sur chacun des axes, on ne distingue pas de groupes disjoints"
      ]
    },
    {
      "cell_type": "markdown",
      "id": "b0fd51dc-cfb0-41c0-9d8a-dc1effc32012",
      "metadata": {
        "id": "b0fd51dc-cfb0-41c0-9d8a-dc1effc32012"
      },
      "source": [
        "# APPLICATION DE LA PCA"
      ]
    },
    {
      "cell_type": "markdown",
      "id": "2ff802fb-5c49-4bac-8c68-5ce92c8e3582",
      "metadata": {
        "id": "2ff802fb-5c49-4bac-8c68-5ce92c8e3582"
      },
      "source": [
        "## Appliquer la PCA sur les données simulées"
      ]
    },
    {
      "cell_type": "code",
      "execution_count": 121,
      "id": "7b35f003-08ce-4888-b8b0-f657c6f2f13b",
      "metadata": {
        "id": "7b35f003-08ce-4888-b8b0-f657c6f2f13b"
      },
      "outputs": [],
      "source": [
        "X_Norm = (X - np.mean(X,axis = 0))/np.std(X, axis = 0)\n",
        "\n",
        "pca1 = PCA(n_components=1)\n",
        "X_pca = pca1.fit_transform(X_Norm)"
      ]
    },
    {
      "cell_type": "code",
      "source": [
        "plt.figure(figsize=(12, 5))\n",
        "\n",
        "# Données d'origine\n",
        "plt.subplot(1, 2, 1)\n",
        "plt.scatter(X[:, 0], X[:, 1], alpha = 0.5)\n",
        "plt.title('Données d\\'origine')\n",
        "\n",
        "# Données réduites\n",
        "plt.subplot(1, 2, 2)\n",
        "plt.scatter(X_pca, np.zeros_like(X_pca), alpha = 0.5)\n",
        "plt.title('Données réduites (1D)')\n",
        "plt.xlabel('Composante Principale')"
      ],
      "metadata": {
        "id": "4usEebDiBAoM",
        "outputId": "7e1d65b3-6741-4c8d-dab5-5cd3d7117e34",
        "colab": {
          "base_uri": "https://localhost:8080/",
          "height": 510
        }
      },
      "id": "4usEebDiBAoM",
      "execution_count": 122,
      "outputs": [
        {
          "output_type": "execute_result",
          "data": {
            "text/plain": [
              "Text(0.5, 0, 'Composante Principale')"
            ]
          },
          "metadata": {},
          "execution_count": 122
        },
        {
          "output_type": "display_data",
          "data": {
            "text/plain": [
              "<Figure size 1200x500 with 2 Axes>"
            ],
            "image/png": "[encoded data removed]"
          },
          "metadata": {}
        }
      ]
    },
    {
      "cell_type": "markdown",
      "id": "01c200b0-8fb6-4632-9948-aa5424c1c663",
      "metadata": {
        "id": "01c200b0-8fb6-4632-9948-aa5424c1c663"
      },
      "source": [
        "___\n",
        "> /!\\ **The input data is centered but not scaled for each feature before applying the PCA.**\n",
        "___"
      ]
    },
    {
      "cell_type": "markdown",
      "id": "03940145-0568-493a-8d72-e17130cd2b9d",
      "metadata": {
        "id": "03940145-0568-493a-8d72-e17130cd2b9d"
      },
      "source": [
        "## Etude de la Variance"
      ]
    },
    {
      "cell_type": "markdown",
      "id": "1917dd4f-30d7-44d5-bf8a-c48a52d2b451",
      "metadata": {
        "id": "1917dd4f-30d7-44d5-bf8a-c48a52d2b451"
      },
      "source": [
        "### Calculer la matrice de Covariance de l'échantillon $X$"
      ]
    },
    {
      "cell_type": "code",
      "execution_count": 123,
      "id": "a1d7c2fe-301e-4a7b-be8c-e98b755e9d3d",
      "metadata": {
        "id": "a1d7c2fe-301e-4a7b-be8c-e98b755e9d3d",
        "outputId": "cb81e8ee-8f7e-4550-f13c-4a9d90e2af7b",
        "colab": {
          "base_uri": "https://localhost:8080/"
        }
      },
      "outputs": [
        {
          "output_type": "execute_result",
          "data": {
            "text/plain": [
              "array([[1.00200401, 0.43001962],\n",
              "       [0.43001962, 1.00200401]])"
            ]
          },
          "metadata": {},
          "execution_count": 123
        }
      ],
      "source": [
        "Sigma_tot = np.cov(X_Norm, rowvar = False)\n",
        "Sigma_tot"
      ]
    },
    {
      "cell_type": "markdown",
      "id": "161523d4-ec20-4140-b642-5518a1d7ed56",
      "metadata": {
        "id": "161523d4-ec20-4140-b642-5518a1d7ed56"
      },
      "source": [
        "### Calculer la somme des variances selon chaque composante de $X$"
      ]
    },
    {
      "cell_type": "code",
      "execution_count": 124,
      "id": "d81eab55-3501-4a72-bd5e-cdfbeeab8fac",
      "metadata": {
        "id": "d81eab55-3501-4a72-bd5e-cdfbeeab8fac",
        "outputId": "b17658b8-a6ea-453b-a249-90f92ed9883f",
        "colab": {
          "base_uri": "https://localhost:8080/"
        }
      },
      "outputs": [
        {
          "output_type": "execute_result",
          "data": {
            "text/plain": [
              "2.0040080160320635"
            ]
          },
          "metadata": {},
          "execution_count": 124
        }
      ],
      "source": [
        "np.diag(Sigma_tot).sum()"
      ]
    },
    {
      "cell_type": "markdown",
      "id": "572cceaf-6a92-4ca1-95b1-6e924963227e",
      "metadata": {
        "id": "572cceaf-6a92-4ca1-95b1-6e924963227e"
      },
      "source": [
        "### Calculer la matrice de Covariance de l'échantillon $X_{PCA}$"
      ]
    },
    {
      "cell_type": "code",
      "execution_count": 125,
      "id": "446b9ac4-91e9-4138-951f-ada448635eaa",
      "metadata": {
        "id": "446b9ac4-91e9-4138-951f-ada448635eaa",
        "outputId": "4c4a7f8c-980c-4914-b257-05a858fc79f6",
        "colab": {
          "base_uri": "https://localhost:8080/"
        }
      },
      "outputs": [
        {
          "output_type": "execute_result",
          "data": {
            "text/plain": [
              "1.432023626151654"
            ]
          },
          "metadata": {},
          "execution_count": 125
        }
      ],
      "source": [
        "Sigma_pca_tot = float(np.cov(X_pca, rowvar = False))\n",
        "Sigma_pca_tot"
      ]
    },
    {
      "cell_type": "markdown",
      "id": "560e638e-6085-43ff-a99c-34f2c35cf429",
      "metadata": {
        "id": "560e638e-6085-43ff-a99c-34f2c35cf429"
      },
      "source": [
        "### Calculer la somme des variances selon chaque composante de $X_{PCA}$"
      ]
    },
    {
      "cell_type": "code",
      "execution_count": 126,
      "id": "106163ec-5f4c-4dbe-8f40-27dc07d4439b",
      "metadata": {
        "id": "106163ec-5f4c-4dbe-8f40-27dc07d4439b",
        "outputId": "18a9bb95-590d-441d-9307-30b30d4ce7ce",
        "colab": {
          "base_uri": "https://localhost:8080/",
          "height": 321
        }
      },
      "outputs": [
        {
          "output_type": "error",
          "ename": "ValueError",
          "evalue": "ignored",
          "traceback": [
            "\u001b[0;31m---------------------------------------------------------------------------\u001b[0m",
            "\u001b[0;31mValueError\u001b[0m                                Traceback (most recent call last)",
            "\u001b[0;32m<ipython-input-126-bd87ea80cdcf>\u001b[0m in \u001b[0;36m<cell line: 1>\u001b[0;34m()\u001b[0m\n\u001b[0;32m----> 1\u001b[0;31m \u001b[0mnp\u001b[0m\u001b[0;34m.\u001b[0m\u001b[0mdiag\u001b[0m\u001b[0;34m(\u001b[0m\u001b[0mSigma_pca_tot\u001b[0m\u001b[0;34m)\u001b[0m\u001b[0;34m.\u001b[0m\u001b[0msum\u001b[0m\u001b[0;34m(\u001b[0m\u001b[0;34m)\u001b[0m\u001b[0;34m\u001b[0m\u001b[0;34m\u001b[0m\u001b[0m\n\u001b[0m",
            "\u001b[0;32m/usr/local/lib/python3.10/dist-packages/numpy/core/overrides.py\u001b[0m in \u001b[0;36mdiag\u001b[0;34m(*args, **kwargs)\u001b[0m\n",
            "\u001b[0;32m/usr/local/lib/python3.10/dist-packages/numpy/lib/twodim_base.py\u001b[0m in \u001b[0;36mdiag\u001b[0;34m(v, k)\u001b[0m\n\u001b[1;32m    307\u001b[0m         \u001b[0;32mreturn\u001b[0m \u001b[0mdiagonal\u001b[0m\u001b[0;34m(\u001b[0m\u001b[0mv\u001b[0m\u001b[0;34m,\u001b[0m \u001b[0mk\u001b[0m\u001b[0;34m)\u001b[0m\u001b[0;34m\u001b[0m\u001b[0;34m\u001b[0m\u001b[0m\n\u001b[1;32m    308\u001b[0m     \u001b[0;32melse\u001b[0m\u001b[0;34m:\u001b[0m\u001b[0;34m\u001b[0m\u001b[0;34m\u001b[0m\u001b[0m\n\u001b[0;32m--> 309\u001b[0;31m         \u001b[0;32mraise\u001b[0m \u001b[0mValueError\u001b[0m\u001b[0;34m(\u001b[0m\u001b[0;34m\"Input must be 1- or 2-d.\"\u001b[0m\u001b[0;34m)\u001b[0m\u001b[0;34m\u001b[0m\u001b[0;34m\u001b[0m\u001b[0m\n\u001b[0m\u001b[1;32m    310\u001b[0m \u001b[0;34m\u001b[0m\u001b[0m\n\u001b[1;32m    311\u001b[0m \u001b[0;34m\u001b[0m\u001b[0m\n",
            "\u001b[0;31mValueError\u001b[0m: Input must be 1- or 2-d."
          ]
        }
      ],
      "source": [
        "np.diag(Sigma_pca_tot).sum()"
      ]
    },
    {
      "cell_type": "markdown",
      "id": "ccc18e0c-3def-4152-b4b4-4c7425371c89",
      "metadata": {
        "id": "ccc18e0c-3def-4152-b4b4-4c7425371c89"
      },
      "source": [
        "## Vérifier :\n",
        "\n",
        "* $\\textbf{X}^T \\; \\textbf{X}\\; v^j = \\lambda_j v^j $, one has :\n",
        "\n",
        "    - $\\widehat{Cov}(X^j , C^{j'} ) = \\frac{1}{n}  \\langle X^j  , \\textbf{X} \\delta_{\\{j=j ' \\}} \\rangle \\;= \\frac{1}{n} \\sigma_j ^2\\; \\delta_{\\{j=j ' \\}}$, and,\n",
        "    \n",
        "    - $\\widehat{Corr}(X^j , C^{j'} ) =   \\frac{1}{n} \\sigma_j \\; \\delta_{\\{j=j ' \\}}$\n",
        "\n",
        "* $\\widehat{Cov}(C^j , C^{j'} ) = \\frac{1}{n} \\;\\langle \\textbf{X} v^j  , \\textbf{X} v^{j'} \\rangle = \\frac{1}{n} \\sigma_j^2 \\; \\delta_{\\{j=j ' \\}}$"
      ]
    },
    {
      "cell_type": "code",
      "execution_count": null,
      "id": "c673a27e-ed16-4de9-9e42-662d7c287b51",
      "metadata": {
        "tags": [],
        "id": "c673a27e-ed16-4de9-9e42-662d7c287b51"
      },
      "outputs": [],
      "source": []
    },
    {
      "cell_type": "markdown",
      "id": "599e1f4f-d1a0-49dc-853d-37c1c1c75f15",
      "metadata": {
        "id": "599e1f4f-d1a0-49dc-853d-37c1c1c75f15"
      },
      "source": [
        "## Retrouver les résultats de la PCA avec une SVD"
      ]
    },
    {
      "cell_type": "markdown",
      "id": "dc7feb56-4817-4915-8ae5-26f4418350cf",
      "metadata": {
        "id": "dc7feb56-4817-4915-8ae5-26f4418350cf"
      },
      "source": [
        "**Rappel**"
      ]
    },
    {
      "cell_type": "markdown",
      "id": "7d9d1c58-fed8-4071-8fb3-aba98d090e18",
      "metadata": {
        "id": "7d9d1c58-fed8-4071-8fb3-aba98d090e18"
      },
      "source": [
        "\n",
        "____\n",
        "> * Let $\\textbf{X} \\in \\mathcal{M}(n,p)$, and assume that $X$ is centered and that the symmetric matrix $\\textbf{X}^T \\; \\textbf{X}$ is of rank $p$. (\\footnote{can ben generalized for matrix $\\textbf{X}^T \\; \\textbf{X}$ of rank $q\\leq p$})\n",
        ">\n",
        "> * Let <span style=\"color:red\">$\\left\\{ v^1, \\ldots, v^p \\right\\}$ be the set of orthonormal unit eigenvectors of $\\textbf{X}^T \\; \\textbf{X}$\n",
        "with associated eigenvalues $\\left\\{ \\lambda_1 \\geq \\lambda_2 \\ldots, \\geq \\lambda_p > 0 \\right\\}$</span> :\n",
        "> $\\textbf{X}^T \\; \\textbf{X}\\; v^j = \\lambda_j v^j $.\n",
        ">\n",
        "> * <span style=\"color:red\">$\\sigma_j :\\;= \\sqrt{\\lambda_j}$</span>, $j=1,\\ldots,p$ are positive real and called the \\textit{\\alert{singular values}}.\n",
        ">\n",
        "> *  define the vectors : <span style=\"color:red\">$\\left\\{ u^1, \\ldots, u^p \\right\\} \\in \\mathbb{R}^n$ such that $u^j :\\;=  \\frac{1}{\\sigma_j} \\textbf{X} v^j$</span>,\n",
        "hence ($^*$) :\n",
        ">\t$$\n",
        "\t\\textbf{X} v^j  =  \\sigma_j \\; u^j \\quad , \\quad\n",
        "\t<u^j,u^{j'}>\t =  \\delta_{\\{i=j ' \\}} \\quad \\mbox{and,} \\quad\n",
        "\t\\left\\| \\textbf{X} v^j \\right\\|^2  =  \\sigma_j\\;.\n",
        "\t$$\n",
        ">\n",
        "> *  set : $\\textbf{U} = (u^1,\\ldots, u^p) \\in \\mathcal{M}(n,p)$, $\\textbf{V} = (v^1,\\ldots,v^p) \\in \\mathcal{M}(p,p)$,\n",
        "> $\\textbf{D} = diag(\\sigma_1,\\ldots,\\sigma_p) \\in \\mathcal{M}(p,p)$,\n",
        "> by construction, one has :\n",
        ">\n",
        ">\t$$\\begin{array}{rcl}\n",
        "\\textbf{X} \\textbf{V} & = & \\textbf{U} \\textbf{D} \\qquad \\mbox{and}, \\\\\n",
        "\\textbf{X} & = & \\textbf{U} \\textbf{D}  \\textbf{V}^T \\quad \\mbox{since  $\\textbf{V}$ is orthonormal .}\n",
        "\\end{array}$$\n",
        ">\n",
        "____"
      ]
    },
    {
      "cell_type": "markdown",
      "id": "439bf399-6e87-48d6-8a7b-c1e062545e14",
      "metadata": {
        "id": "439bf399-6e87-48d6-8a7b-c1e062545e14"
      },
      "source": [
        "___\n",
        "> <p style=\"text-align: center;\">If $\\textbf{X}$ $(\\textbf{X} \\leftarrow \\tilde{\\textbf{X} })$ is centered,\n",
        "<span style=\"color:red\"> the columns of $\\textbf{X} \\textbf{V} = \\textbf{U} \\textbf{D}$ are called the principal components </span>.</p>\n",
        "___"
      ]
    },
    {
      "cell_type": "markdown",
      "id": "3031da2c-83f1-44f5-aab8-4cb0afdf1a89",
      "metadata": {
        "id": "3031da2c-83f1-44f5-aab8-4cb0afdf1a89"
      },
      "source": [
        "**Properties**\n",
        "\n",
        "$\\textbf{X}$ being centered, for $1\\leq j \\leq p$, we have :\n",
        "\n",
        "* $C^j : \\; = \\textbf{X}\\; v^j $ is centered,\n",
        "\n",
        "* Since : $\\textbf{X}^T \\; \\textbf{X}\\; v^j = \\lambda_j v^j $, one has :\n",
        "\t* $\\widehat{Cov}(X^j , C^{j'} ) = \\frac{1}{n}  \\langle X^j  , \\textbf{X} v^j \\rangle \\;= \\frac{1}{n} \\sigma_j ^2\\; \\delta_{\\{j=j ' \\}}$, and,\n",
        "\t* $\\widehat{Corr}(X^j , C^{j'} ) =   \\frac{1}{n} \\sigma_j \\; \\delta_{\\{j=j ' \\}}$\n",
        "\n",
        "\n",
        "* $\\widehat{Cov}(C^j , C^{j'} ) = \\frac{1}{n} \\;\\langle \\textbf{X} v^j  , \\textbf{X} v^{j'} \\rangle = \\frac{1}{n} \\sigma_j^2 \\; \\delta_{\\{j=j ' \\}}$"
      ]
    },
    {
      "cell_type": "markdown",
      "id": "c95d8402-7c9d-45ce-9103-39d29bc298f8",
      "metadata": {
        "id": "c95d8402-7c9d-45ce-9103-39d29bc298f8"
      },
      "source": [
        "Utiliser :\n",
        "```\n",
        "U, D, V = np.linalg.svd(...)\n",
        "```\n",
        "(/!\\ après avoir centrer $X$)"
      ]
    },
    {
      "cell_type": "code",
      "execution_count": null,
      "id": "c72092f7-d7f6-4c0a-a2d6-9ae24fd5d717",
      "metadata": {
        "id": "c72092f7-d7f6-4c0a-a2d6-9ae24fd5d717"
      },
      "outputs": [],
      "source": [
        "X_tilde = ... # Centrer X"
      ]
    },
    {
      "cell_type": "code",
      "execution_count": null,
      "id": "73f67f46-78b2-4a3d-9eaf-5ed7691cb844",
      "metadata": {
        "id": "73f67f46-78b2-4a3d-9eaf-5ed7691cb844"
      },
      "outputs": [],
      "source": [
        "U, D, V = ... # Appliquer la SVD"
      ]
    },
    {
      "cell_type": "code",
      "execution_count": null,
      "id": "cd41f754-dc44-48a3-a927-70964a21a562",
      "metadata": {
        "id": "cd41f754-dc44-48a3-a927-70964a21a562"
      },
      "outputs": [],
      "source": [
        "X_svd = U@np.diag(D)"
      ]
    },
    {
      "cell_type": "code",
      "execution_count": null,
      "id": "05d89c70-097c-42d2-9f48-5329616f8335",
      "metadata": {
        "id": "05d89c70-097c-42d2-9f48-5329616f8335"
      },
      "outputs": [],
      "source": []
    },
    {
      "cell_type": "markdown",
      "id": "b2639e57-9d4c-4800-8fc2-7a0fcb33aab8",
      "metadata": {
        "id": "b2639e57-9d4c-4800-8fc2-7a0fcb33aab8"
      },
      "source": [
        "# APPLICATION ON DATA"
      ]
    },
    {
      "cell_type": "markdown",
      "id": "051b5808-d15a-4f01-a9b7-f5962774606e",
      "metadata": {
        "id": "051b5808-d15a-4f01-a9b7-f5962774606e"
      },
      "source": [
        "Cet exemple est issu du livre : [Introduction to Statistical Learning with applications in Python](https://www.statlearning.com/)"
      ]
    },
    {
      "cell_type": "code",
      "execution_count": 127,
      "id": "81e6a0eb-e378-4c83-8a01-8f0a23ca5215",
      "metadata": {
        "id": "81e6a0eb-e378-4c83-8a01-8f0a23ca5215"
      },
      "outputs": [],
      "source": [
        "from sklearn.preprocessing import StandardScaler\n",
        "from statsmodels.datasets import get_rdataset\n",
        "from ISLP import load_data\n",
        "from scipy.cluster.hierarchy import dendrogram, cut_tree\n",
        "from ISLP.cluster import compute_linkage"
      ]
    },
    {
      "cell_type": "code",
      "execution_count": 128,
      "id": "a17da1c6-cb39-40da-9aa3-cc9bc10595bd",
      "metadata": {
        "id": "a17da1c6-cb39-40da-9aa3-cc9bc10595bd"
      },
      "outputs": [],
      "source": [
        "USArrests = get_rdataset('USArrests').data"
      ]
    },
    {
      "cell_type": "code",
      "execution_count": 129,
      "id": "e17929cd-fca8-4d30-8feb-a8d530b4055e",
      "metadata": {
        "id": "e17929cd-fca8-4d30-8feb-a8d530b4055e",
        "outputId": "216013d1-b7f6-48fe-9e03-c87e88120d30",
        "colab": {
          "base_uri": "https://localhost:8080/",
          "height": 237
        }
      },
      "outputs": [
        {
          "output_type": "execute_result",
          "data": {
            "text/plain": [
              "            Murder  Assault  UrbanPop  Rape\n",
              "rownames                                   \n",
              "Alabama       13.2      236        58  21.2\n",
              "Alaska        10.0      263        48  44.5\n",
              "Arizona        8.1      294        80  31.0\n",
              "Arkansas       8.8      190        50  19.5\n",
              "California     9.0      276        91  40.6"
            ],
            "text/html": [
              "\n",
              "  <div id=\"df-c7ca133a-a01d-4588-b24e-98c38bd23613\" class=\"colab-df-container\">\n",
              "    <div>\n",
              "<style scoped>\n",
              "    .dataframe tbody tr th:only-of-type {\n",
              "        vertical-align: middle;\n",
              "    }\n",
              "\n",
              "    .dataframe tbody tr th {\n",
              "        vertical-align: top;\n",
              "    }\n",
              "\n",
              "    .dataframe thead th {\n",
              "        text-align: right;\n",
              "    }\n",
              "</style>\n",
              "<table border=\"1\" class=\"dataframe\">\n",
              "  <thead>\n",
              "    <tr style=\"text-align: right;\">\n",
              "      <th></th>\n",
              "      <th>Murder</th>\n",
              "      <th>Assault</th>\n",
              "      <th>UrbanPop</th>\n",
              "      <th>Rape</th>\n",
              "    </tr>\n",
              "    <tr>\n",
              "      <th>rownames</th>\n",
              "      <th></th>\n",
              "      <th></th>\n",
              "      <th></th>\n",
              "      <th></th>\n",
              "    </tr>\n",
              "  </thead>\n",
              "  <tbody>\n",
              "    <tr>\n",
              "      <th>Alabama</th>\n",
              "      <td>13.2</td>\n",
              "      <td>236</td>\n",
              "      <td>58</td>\n",
              "      <td>21.2</td>\n",
              "    </tr>\n",
              "    <tr>\n",
              "      <th>Alaska</th>\n",
              "      <td>10.0</td>\n",
              "      <td>263</td>\n",
              "      <td>48</td>\n",
              "      <td>44.5</td>\n",
              "    </tr>\n",
              "    <tr>\n",
              "      <th>Arizona</th>\n",
              "      <td>8.1</td>\n",
              "      <td>294</td>\n",
              "      <td>80</td>\n",
              "      <td>31.0</td>\n",
              "    </tr>\n",
              "    <tr>\n",
              "      <th>Arkansas</th>\n",
              "      <td>8.8</td>\n",
              "      <td>190</td>\n",
              "      <td>50</td>\n",
              "      <td>19.5</td>\n",
              "    </tr>\n",
              "    <tr>\n",
              "      <th>California</th>\n",
              "      <td>9.0</td>\n",
              "      <td>276</td>\n",
              "      <td>91</td>\n",
              "      <td>40.6</td>\n",
              "    </tr>\n",
              "  </tbody>\n",
              "</table>\n",
              "</div>\n",
              "    <div class=\"colab-df-buttons\">\n",
              "\n",
              "  <div class=\"colab-df-container\">\n",
              "    <button class=\"colab-df-convert\" onclick=\"convertToInteractive('df-c7ca133a-a01d-4588-b24e-98c38bd23613')\"\n",
              "            title=\"Convert this dataframe to an interactive table.\"\n",
              "            style=\"display:none;\">\n",
              "\n",
              "  <svg xmlns=\"http://www.w3.org/2000/svg\" height=\"24px\" viewBox=\"0 -960 960 960\">\n",
              "    <path d=\"M120-120v-720h720v720H120Zm60-500h600v-160H180v160Zm220 220h160v-160H400v160Zm0 220h160v-160H400v160ZM180-400h160v-160H180v160Zm440 0h160v-160H620v160ZM180-180h160v-160H180v160Zm440 0h160v-160H620v160Z\"/>\n",
              "  </svg>\n",
              "    </button>\n",
              "\n",
              "  <style>\n",
              "    .colab-df-container {\n",
              "      display:flex;\n",
              "      gap: 12px;\n",
              "    }\n",
              "\n",
              "    .colab-df-convert {\n",
              "      background-color: #E8F0FE;\n",
              "      border: none;\n",
              "      border-radius: 50%;\n",
              "      cursor: pointer;\n",
              "      display: none;\n",
              "      fill: #1967D2;\n",
              "      height: 32px;\n",
              "      padding: 0 0 0 0;\n",
              "      width: 32px;\n",
              "    }\n",
              "\n",
              "    .colab-df-convert:hover {\n",
              "      background-color: #E2EBFA;\n",
              "      box-shadow: 0px 1px 2px rgba(60, 64, 67, 0.3), 0px 1px 3px 1px rgba(60, 64, 67, 0.15);\n",
              "      fill: #174EA6;\n",
              "    }\n",
              "\n",
              "    .colab-df-buttons div {\n",
              "      margin-bottom: 4px;\n",
              "    }\n",
              "\n",
              "    [theme=dark] .colab-df-convert {\n",
              "      background-color: #3B4455;\n",
              "      fill: #D2E3FC;\n",
              "    }\n",
              "\n",
              "    [theme=dark] .colab-df-convert:hover {\n",
              "      background-color: #434B5C;\n",
              "      box-shadow: 0px 1px 3px 1px rgba(0, 0, 0, 0.15);\n",
              "      filter: drop-shadow(0px 1px 2px rgba(0, 0, 0, 0.3));\n",
              "      fill: #FFFFFF;\n",
              "    }\n",
              "  </style>\n",
              "\n",
              "    <script>\n",
              "      const buttonEl =\n",
              "        document.querySelector('#df-c7ca133a-a01d-4588-b24e-98c38bd23613 button.colab-df-convert');\n",
              "      buttonEl.style.display =\n",
              "        google.colab.kernel.accessAllowed ? 'block' : 'none';\n",
              "\n",
              "      async function convertToInteractive(key) {\n",
              "        const element = document.querySelector('#df-c7ca133a-a01d-4588-b24e-98c38bd23613');\n",
              "        const dataTable =\n",
              "          await google.colab.kernel.invokeFunction('convertToInteractive',\n",
              "                                                    [key], {});\n",
              "        if (!dataTable) return;\n",
              "\n",
              "        const docLinkHtml = 'Like what you see? Visit the ' +\n",
              "          '<a target=\"_blank\" href=https://colab.research.google.com/notebooks/data_table.ipynb>data table notebook</a>'\n",
              "          + ' to learn more about interactive tables.';\n",
              "        element.innerHTML = '';\n",
              "        dataTable['output_type'] = 'display_data';\n",
              "        await google.colab.output.renderOutput(dataTable, element);\n",
              "        const docLink = document.createElement('div');\n",
              "        docLink.innerHTML = docLinkHtml;\n",
              "        element.appendChild(docLink);\n",
              "      }\n",
              "    </script>\n",
              "  </div>\n",
              "\n",
              "\n",
              "<div id=\"df-144df983-c15a-43fd-b985-f34706837ed9\">\n",
              "  <button class=\"colab-df-quickchart\" onclick=\"quickchart('df-144df983-c15a-43fd-b985-f34706837ed9')\"\n",
              "            title=\"Suggest charts.\"\n",
              "            style=\"display:none;\">\n",
              "\n",
              "<svg xmlns=\"http://www.w3.org/2000/svg\" height=\"24px\"viewBox=\"0 0 24 24\"\n",
              "     width=\"24px\">\n",
              "    <g>\n",
              "        <path d=\"M19 3H5c-1.1 0-2 .9-2 2v14c0 1.1.9 2 2 2h14c1.1 0 2-.9 2-2V5c0-1.1-.9-2-2-2zM9 17H7v-7h2v7zm4 0h-2V7h2v10zm4 0h-2v-4h2v4z\"/>\n",
              "    </g>\n",
              "</svg>\n",
              "  </button>\n",
              "\n",
              "<style>\n",
              "  .colab-df-quickchart {\n",
              "      --bg-color: #E8F0FE;\n",
              "      --fill-color: #1967D2;\n",
              "      --hover-bg-color: #E2EBFA;\n",
              "      --hover-fill-color: #174EA6;\n",
              "      --disabled-fill-color: #AAA;\n",
              "      --disabled-bg-color: #DDD;\n",
              "  }\n",
              "\n",
              "  [theme=dark] .colab-df-quickchart {\n",
              "      --bg-color: #3B4455;\n",
              "      --fill-color: #D2E3FC;\n",
              "      --hover-bg-color: #434B5C;\n",
              "      --hover-fill-color: #FFFFFF;\n",
              "      --disabled-bg-color: #3B4455;\n",
              "      --disabled-fill-color: #666;\n",
              "  }\n",
              "\n",
              "  .colab-df-quickchart {\n",
              "    background-color: var(--bg-color);\n",
              "    border: none;\n",
              "    border-radius: 50%;\n",
              "    cursor: pointer;\n",
              "    display: none;\n",
              "    fill: var(--fill-color);\n",
              "    height: 32px;\n",
              "    padding: 0;\n",
              "    width: 32px;\n",
              "  }\n",
              "\n",
              "  .colab-df-quickchart:hover {\n",
              "    background-color: var(--hover-bg-color);\n",
              "    box-shadow: 0 1px 2px rgba(60, 64, 67, 0.3), 0 1px 3px 1px rgba(60, 64, 67, 0.15);\n",
              "    fill: var(--button-hover-fill-color);\n",
              "  }\n",
              "\n",
              "  .colab-df-quickchart-complete:disabled,\n",
              "  .colab-df-quickchart-complete:disabled:hover {\n",
              "    background-color: var(--disabled-bg-color);\n",
              "    fill: var(--disabled-fill-color);\n",
              "    box-shadow: none;\n",
              "  }\n",
              "\n",
              "  .colab-df-spinner {\n",
              "    border: 2px solid var(--fill-color);\n",
              "    border-color: transparent;\n",
              "    border-bottom-color: var(--fill-color);\n",
              "    animation:\n",
              "      spin 1s steps(1) infinite;\n",
              "  }\n",
              "\n",
              "  @keyframes spin {\n",
              "    0% {\n",
              "      border-color: transparent;\n",
              "      border-bottom-color: var(--fill-color);\n",
              "      border-left-color: var(--fill-color);\n",
              "    }\n",
              "    20% {\n",
              "      border-color: transparent;\n",
              "      border-left-color: var(--fill-color);\n",
              "      border-top-color: var(--fill-color);\n",
              "    }\n",
              "    30% {\n",
              "      border-color: transparent;\n",
              "      border-left-color: var(--fill-color);\n",
              "      border-top-color: var(--fill-color);\n",
              "      border-right-color: var(--fill-color);\n",
              "    }\n",
              "    40% {\n",
              "      border-color: transparent;\n",
              "      border-right-color: var(--fill-color);\n",
              "      border-top-color: var(--fill-color);\n",
              "    }\n",
              "    60% {\n",
              "      border-color: transparent;\n",
              "      border-right-color: var(--fill-color);\n",
              "    }\n",
              "    80% {\n",
              "      border-color: transparent;\n",
              "      border-right-color: var(--fill-color);\n",
              "      border-bottom-color: var(--fill-color);\n",
              "    }\n",
              "    90% {\n",
              "      border-color: transparent;\n",
              "      border-bottom-color: var(--fill-color);\n",
              "    }\n",
              "  }\n",
              "</style>\n",
              "\n",
              "  <script>\n",
              "    async function quickchart(key) {\n",
              "      const quickchartButtonEl =\n",
              "        document.querySelector('#' + key + ' button');\n",
              "      quickchartButtonEl.disabled = true;  // To prevent multiple clicks.\n",
              "      quickchartButtonEl.classList.add('colab-df-spinner');\n",
              "      try {\n",
              "        const charts = await google.colab.kernel.invokeFunction(\n",
              "            'suggestCharts', [key], {});\n",
              "      } catch (error) {\n",
              "        console.error('Error during call to suggestCharts:', error);\n",
              "      }\n",
              "      quickchartButtonEl.classList.remove('colab-df-spinner');\n",
              "      quickchartButtonEl.classList.add('colab-df-quickchart-complete');\n",
              "    }\n",
              "    (() => {\n",
              "      let quickchartButtonEl =\n",
              "        document.querySelector('#df-144df983-c15a-43fd-b985-f34706837ed9 button');\n",
              "      quickchartButtonEl.style.display =\n",
              "        google.colab.kernel.accessAllowed ? 'block' : 'none';\n",
              "    })();\n",
              "  </script>\n",
              "</div>\n",
              "    </div>\n",
              "  </div>\n"
            ]
          },
          "metadata": {},
          "execution_count": 129
        }
      ],
      "source": [
        "USArrests.head()"
      ]
    },
    {
      "cell_type": "markdown",
      "id": "428ad1b8-f126-4a94-bf23-1efcabc34ce7",
      "metadata": {
        "id": "428ad1b8-f126-4a94-bf23-1efcabc34ce7"
      },
      "source": [
        "Décrire statistiquement les data \"USArrests\""
      ]
    },
    {
      "cell_type": "code",
      "execution_count": 130,
      "id": "51867a45-6873-4a9b-89f4-a88b2796d627",
      "metadata": {
        "id": "51867a45-6873-4a9b-89f4-a88b2796d627",
        "outputId": "2be897d4-27a9-4f03-a701-ad8830b9161d",
        "colab": {
          "base_uri": "https://localhost:8080/",
          "height": 300
        }
      },
      "outputs": [
        {
          "output_type": "execute_result",
          "data": {
            "text/plain": [
              "         Murder     Assault   UrbanPop       Rape\n",
              "count  50.00000   50.000000  50.000000  50.000000\n",
              "mean    7.78800  170.760000  65.540000  21.232000\n",
              "std     4.35551   83.337661  14.474763   9.366385\n",
              "min     0.80000   45.000000  32.000000   7.300000\n",
              "25%     4.07500  109.000000  54.500000  15.075000\n",
              "50%     7.25000  159.000000  66.000000  20.100000\n",
              "75%    11.25000  249.000000  77.750000  26.175000\n",
              "max    17.40000  337.000000  91.000000  46.000000"
            ],
            "text/html": [
              "\n",
              "  <div id=\"df-8ebb7c0a-ccdd-48d1-acda-095fee7a7efe\" class=\"colab-df-container\">\n",
              "    <div>\n",
              "<style scoped>\n",
              "    .dataframe tbody tr th:only-of-type {\n",
              "        vertical-align: middle;\n",
              "    }\n",
              "\n",
              "    .dataframe tbody tr th {\n",
              "        vertical-align: top;\n",
              "    }\n",
              "\n",
              "    .dataframe thead th {\n",
              "        text-align: right;\n",
              "    }\n",
              "</style>\n",
              "<table border=\"1\" class=\"dataframe\">\n",
              "  <thead>\n",
              "    <tr style=\"text-align: right;\">\n",
              "      <th></th>\n",
              "      <th>Murder</th>\n",
              "      <th>Assault</th>\n",
              "      <th>UrbanPop</th>\n",
              "      <th>Rape</th>\n",
              "    </tr>\n",
              "  </thead>\n",
              "  <tbody>\n",
              "    <tr>\n",
              "      <th>count</th>\n",
              "      <td>50.00000</td>\n",
              "      <td>50.000000</td>\n",
              "      <td>50.000000</td>\n",
              "      <td>50.000000</td>\n",
              "    </tr>\n",
              "    <tr>\n",
              "      <th>mean</th>\n",
              "      <td>7.78800</td>\n",
              "      <td>170.760000</td>\n",
              "      <td>65.540000</td>\n",
              "      <td>21.232000</td>\n",
              "    </tr>\n",
              "    <tr>\n",
              "      <th>std</th>\n",
              "      <td>4.35551</td>\n",
              "      <td>83.337661</td>\n",
              "      <td>14.474763</td>\n",
              "      <td>9.366385</td>\n",
              "    </tr>\n",
              "    <tr>\n",
              "      <th>min</th>\n",
              "      <td>0.80000</td>\n",
              "      <td>45.000000</td>\n",
              "      <td>32.000000</td>\n",
              "      <td>7.300000</td>\n",
              "    </tr>\n",
              "    <tr>\n",
              "      <th>25%</th>\n",
              "      <td>4.07500</td>\n",
              "      <td>109.000000</td>\n",
              "      <td>54.500000</td>\n",
              "      <td>15.075000</td>\n",
              "    </tr>\n",
              "    <tr>\n",
              "      <th>50%</th>\n",
              "      <td>7.25000</td>\n",
              "      <td>159.000000</td>\n",
              "      <td>66.000000</td>\n",
              "      <td>20.100000</td>\n",
              "    </tr>\n",
              "    <tr>\n",
              "      <th>75%</th>\n",
              "      <td>11.25000</td>\n",
              "      <td>249.000000</td>\n",
              "      <td>77.750000</td>\n",
              "      <td>26.175000</td>\n",
              "    </tr>\n",
              "    <tr>\n",
              "      <th>max</th>\n",
              "      <td>17.40000</td>\n",
              "      <td>337.000000</td>\n",
              "      <td>91.000000</td>\n",
              "      <td>46.000000</td>\n",
              "    </tr>\n",
              "  </tbody>\n",
              "</table>\n",
              "</div>\n",
              "    <div class=\"colab-df-buttons\">\n",
              "\n",
              "  <div class=\"colab-df-container\">\n",
              "    <button class=\"colab-df-convert\" onclick=\"convertToInteractive('df-8ebb7c0a-ccdd-48d1-acda-095fee7a7efe')\"\n",
              "            title=\"Convert this dataframe to an interactive table.\"\n",
              "            style=\"display:none;\">\n",
              "\n",
              "  <svg xmlns=\"http://www.w3.org/2000/svg\" height=\"24px\" viewBox=\"0 -960 960 960\">\n",
              "    <path d=\"M120-120v-720h720v720H120Zm60-500h600v-160H180v160Zm220 220h160v-160H400v160Zm0 220h160v-160H400v160ZM180-400h160v-160H180v160Zm440 0h160v-160H620v160ZM180-180h160v-160H180v160Zm440 0h160v-160H620v160Z\"/>\n",
              "  </svg>\n",
              "    </button>\n",
              "\n",
              "  <style>\n",
              "    .colab-df-container {\n",
              "      display:flex;\n",
              "      gap: 12px;\n",
              "    }\n",
              "\n",
              "    .colab-df-convert {\n",
              "      background-color: #E8F0FE;\n",
              "      border: none;\n",
              "      border-radius: 50%;\n",
              "      cursor: pointer;\n",
              "      display: none;\n",
              "      fill: #1967D2;\n",
              "      height: 32px;\n",
              "      padding: 0 0 0 0;\n",
              "      width: 32px;\n",
              "    }\n",
              "\n",
              "    .colab-df-convert:hover {\n",
              "      background-color: #E2EBFA;\n",
              "      box-shadow: 0px 1px 2px rgba(60, 64, 67, 0.3), 0px 1px 3px 1px rgba(60, 64, 67, 0.15);\n",
              "      fill: #174EA6;\n",
              "    }\n",
              "\n",
              "    .colab-df-buttons div {\n",
              "      margin-bottom: 4px;\n",
              "    }\n",
              "\n",
              "    [theme=dark] .colab-df-convert {\n",
              "      background-color: #3B4455;\n",
              "      fill: #D2E3FC;\n",
              "    }\n",
              "\n",
              "    [theme=dark] .colab-df-convert:hover {\n",
              "      background-color: #434B5C;\n",
              "      box-shadow: 0px 1px 3px 1px rgba(0, 0, 0, 0.15);\n",
              "      filter: drop-shadow(0px 1px 2px rgba(0, 0, 0, 0.3));\n",
              "      fill: #FFFFFF;\n",
              "    }\n",
              "  </style>\n",
              "\n",
              "    <script>\n",
              "      const buttonEl =\n",
              "        document.querySelector('#df-8ebb7c0a-ccdd-48d1-acda-095fee7a7efe button.colab-df-convert');\n",
              "      buttonEl.style.display =\n",
              "        google.colab.kernel.accessAllowed ? 'block' : 'none';\n",
              "\n",
              "      async function convertToInteractive(key) {\n",
              "        const element = document.querySelector('#df-8ebb7c0a-ccdd-48d1-acda-095fee7a7efe');\n",
              "        const dataTable =\n",
              "          await google.colab.kernel.invokeFunction('convertToInteractive',\n",
              "                                                    [key], {});\n",
              "        if (!dataTable) return;\n",
              "\n",
              "        const docLinkHtml = 'Like what you see? Visit the ' +\n",
              "          '<a target=\"_blank\" href=https://colab.research.google.com/notebooks/data_table.ipynb>data table notebook</a>'\n",
              "          + ' to learn more about interactive tables.';\n",
              "        element.innerHTML = '';\n",
              "        dataTable['output_type'] = 'display_data';\n",
              "        await google.colab.output.renderOutput(dataTable, element);\n",
              "        const docLink = document.createElement('div');\n",
              "        docLink.innerHTML = docLinkHtml;\n",
              "        element.appendChild(docLink);\n",
              "      }\n",
              "    </script>\n",
              "  </div>\n",
              "\n",
              "\n",
              "<div id=\"df-90a93c75-831b-4601-9ad5-70e62a3f15a1\">\n",
              "  <button class=\"colab-df-quickchart\" onclick=\"quickchart('df-90a93c75-831b-4601-9ad5-70e62a3f15a1')\"\n",
              "            title=\"Suggest charts.\"\n",
              "            style=\"display:none;\">\n",
              "\n",
              "<svg xmlns=\"http://www.w3.org/2000/svg\" height=\"24px\"viewBox=\"0 0 24 24\"\n",
              "     width=\"24px\">\n",
              "    <g>\n",
              "        <path d=\"M19 3H5c-1.1 0-2 .9-2 2v14c0 1.1.9 2 2 2h14c1.1 0 2-.9 2-2V5c0-1.1-.9-2-2-2zM9 17H7v-7h2v7zm4 0h-2V7h2v10zm4 0h-2v-4h2v4z\"/>\n",
              "    </g>\n",
              "</svg>\n",
              "  </button>\n",
              "\n",
              "<style>\n",
              "  .colab-df-quickchart {\n",
              "      --bg-color: #E8F0FE;\n",
              "      --fill-color: #1967D2;\n",
              "      --hover-bg-color: #E2EBFA;\n",
              "      --hover-fill-color: #174EA6;\n",
              "      --disabled-fill-color: #AAA;\n",
              "      --disabled-bg-color: #DDD;\n",
              "  }\n",
              "\n",
              "  [theme=dark] .colab-df-quickchart {\n",
              "      --bg-color: #3B4455;\n",
              "      --fill-color: #D2E3FC;\n",
              "      --hover-bg-color: #434B5C;\n",
              "      --hover-fill-color: #FFFFFF;\n",
              "      --disabled-bg-color: #3B4455;\n",
              "      --disabled-fill-color: #666;\n",
              "  }\n",
              "\n",
              "  .colab-df-quickchart {\n",
              "    background-color: var(--bg-color);\n",
              "    border: none;\n",
              "    border-radius: 50%;\n",
              "    cursor: pointer;\n",
              "    display: none;\n",
              "    fill: var(--fill-color);\n",
              "    height: 32px;\n",
              "    padding: 0;\n",
              "    width: 32px;\n",
              "  }\n",
              "\n",
              "  .colab-df-quickchart:hover {\n",
              "    background-color: var(--hover-bg-color);\n",
              "    box-shadow: 0 1px 2px rgba(60, 64, 67, 0.3), 0 1px 3px 1px rgba(60, 64, 67, 0.15);\n",
              "    fill: var(--button-hover-fill-color);\n",
              "  }\n",
              "\n",
              "  .colab-df-quickchart-complete:disabled,\n",
              "  .colab-df-quickchart-complete:disabled:hover {\n",
              "    background-color: var(--disabled-bg-color);\n",
              "    fill: var(--disabled-fill-color);\n",
              "    box-shadow: none;\n",
              "  }\n",
              "\n",
              "  .colab-df-spinner {\n",
              "    border: 2px solid var(--fill-color);\n",
              "    border-color: transparent;\n",
              "    border-bottom-color: var(--fill-color);\n",
              "    animation:\n",
              "      spin 1s steps(1) infinite;\n",
              "  }\n",
              "\n",
              "  @keyframes spin {\n",
              "    0% {\n",
              "      border-color: transparent;\n",
              "      border-bottom-color: var(--fill-color);\n",
              "      border-left-color: var(--fill-color);\n",
              "    }\n",
              "    20% {\n",
              "      border-color: transparent;\n",
              "      border-left-color: var(--fill-color);\n",
              "      border-top-color: var(--fill-color);\n",
              "    }\n",
              "    30% {\n",
              "      border-color: transparent;\n",
              "      border-left-color: var(--fill-color);\n",
              "      border-top-color: var(--fill-color);\n",
              "      border-right-color: var(--fill-color);\n",
              "    }\n",
              "    40% {\n",
              "      border-color: transparent;\n",
              "      border-right-color: var(--fill-color);\n",
              "      border-top-color: var(--fill-color);\n",
              "    }\n",
              "    60% {\n",
              "      border-color: transparent;\n",
              "      border-right-color: var(--fill-color);\n",
              "    }\n",
              "    80% {\n",
              "      border-color: transparent;\n",
              "      border-right-color: var(--fill-color);\n",
              "      border-bottom-color: var(--fill-color);\n",
              "    }\n",
              "    90% {\n",
              "      border-color: transparent;\n",
              "      border-bottom-color: var(--fill-color);\n",
              "    }\n",
              "  }\n",
              "</style>\n",
              "\n",
              "  <script>\n",
              "    async function quickchart(key) {\n",
              "      const quickchartButtonEl =\n",
              "        document.querySelector('#' + key + ' button');\n",
              "      quickchartButtonEl.disabled = true;  // To prevent multiple clicks.\n",
              "      quickchartButtonEl.classList.add('colab-df-spinner');\n",
              "      try {\n",
              "        const charts = await google.colab.kernel.invokeFunction(\n",
              "            'suggestCharts', [key], {});\n",
              "      } catch (error) {\n",
              "        console.error('Error during call to suggestCharts:', error);\n",
              "      }\n",
              "      quickchartButtonEl.classList.remove('colab-df-spinner');\n",
              "      quickchartButtonEl.classList.add('colab-df-quickchart-complete');\n",
              "    }\n",
              "    (() => {\n",
              "      let quickchartButtonEl =\n",
              "        document.querySelector('#df-90a93c75-831b-4601-9ad5-70e62a3f15a1 button');\n",
              "      quickchartButtonEl.style.display =\n",
              "        google.colab.kernel.accessAllowed ? 'block' : 'none';\n",
              "    })();\n",
              "  </script>\n",
              "</div>\n",
              "    </div>\n",
              "  </div>\n"
            ]
          },
          "metadata": {},
          "execution_count": 130
        }
      ],
      "source": [
        "USArrests.describe()"
      ]
    },
    {
      "cell_type": "code",
      "source": [
        "USArrests.info()"
      ],
      "metadata": {
        "id": "RaN9YQfSFnCV",
        "outputId": "d014c53c-113b-4ef7-eddc-9f944c56f6be",
        "colab": {
          "base_uri": "https://localhost:8080/"
        }
      },
      "id": "RaN9YQfSFnCV",
      "execution_count": 131,
      "outputs": [
        {
          "output_type": "stream",
          "name": "stdout",
          "text": [
            "<class 'pandas.core.frame.DataFrame'>\n",
            "Index: 50 entries, Alabama to Wyoming\n",
            "Data columns (total 4 columns):\n",
            " #   Column    Non-Null Count  Dtype  \n",
            "---  ------    --------------  -----  \n",
            " 0   Murder    50 non-null     float64\n",
            " 1   Assault   50 non-null     int64  \n",
            " 2   UrbanPop  50 non-null     int64  \n",
            " 3   Rape      50 non-null     float64\n",
            "dtypes: float64(2), int64(2)\n",
            "memory usage: 2.0+ KB\n"
          ]
        }
      ]
    },
    {
      "cell_type": "markdown",
      "id": "932f10d4-1d19-4d8d-aa8c-8928a455c35f",
      "metadata": {
        "id": "932f10d4-1d19-4d8d-aa8c-8928a455c35f"
      },
      "source": [
        "Appliquer la PCA"
      ]
    },
    {
      "cell_type": "code",
      "execution_count": 132,
      "id": "b76e57f8-39c7-4e86-90d1-2bc0a12e8cc2",
      "metadata": {
        "id": "b76e57f8-39c7-4e86-90d1-2bc0a12e8cc2"
      },
      "outputs": [],
      "source": [
        "USArrests_Norm = (USArrests - np.mean(USArrests,axis = 0))/np.std(USArrests, axis = 0)\n",
        "\n",
        "pca2 = PCA(n_components=2)"
      ]
    },
    {
      "cell_type": "markdown",
      "id": "a9e09ccc-6526-4812-90fa-8c2c31d2199a",
      "metadata": {
        "id": "a9e09ccc-6526-4812-90fa-8c2c31d2199a"
      },
      "source": [
        "Etudier la variance expliquée"
      ]
    },
    {
      "cell_type": "code",
      "execution_count": 133,
      "id": "df459050-6c9f-4bfe-a064-29f4204fa705",
      "metadata": {
        "id": "df459050-6c9f-4bfe-a064-29f4204fa705"
      },
      "outputs": [],
      "source": [
        "Cov = np.cov(USArrests,rowvar = False)\n",
        "Cov_Norm = np.cov(USArrests_Norm,rowvar = False)"
      ]
    },
    {
      "cell_type": "markdown",
      "id": "df0d7159-9761-4f7f-b3ac-6198b4ad16a4",
      "metadata": {
        "id": "df0d7159-9761-4f7f-b3ac-6198b4ad16a4"
      },
      "source": [
        "Calculer les composantes principales\n",
        "\n",
        "(les appler scores)"
      ]
    },
    {
      "cell_type": "code",
      "execution_count": 137,
      "id": "c6ef662e-9472-496c-ab0b-b96637c7567d",
      "metadata": {
        "id": "c6ef662e-9472-496c-ab0b-b96637c7567d"
      },
      "outputs": [],
      "source": [
        "scores = pca2.fit_transform(USArrests_Norm)"
      ]
    },
    {
      "cell_type": "markdown",
      "id": "7b167d59-c609-434e-8f11-b89ea79a7458",
      "metadata": {
        "id": "7b167d59-c609-434e-8f11-b89ea79a7458"
      },
      "source": [
        "Représenter les composantes principales et les Etats"
      ]
    },
    {
      "cell_type": "code",
      "execution_count": 138,
      "id": "96ab9c3d-9b0f-486b-879c-8770d7845310",
      "metadata": {
        "id": "96ab9c3d-9b0f-486b-879c-8770d7845310",
        "outputId": "32dd527e-77e3-486c-9b03-bbaf3d4091c5",
        "colab": {
          "base_uri": "https://localhost:8080/",
          "height": 700
        }
      },
      "outputs": [
        {
          "output_type": "display_data",
          "data": {
            "text/plain": [
              "<Figure size 800x800 with 1 Axes>"
            ],
            "image/png": "[encoded data removed]"
          },
          "metadata": {}
        }
      ],
      "source": [
        "i, j = 0, 1 # which components\n",
        "fig , ax = plt.subplots(1, 1, figsize=(8, 8))\n",
        "ax.scatter(scores[:,0], scores[:,1],alpha=0.5)\n",
        "\n",
        "ax.set_xlabel('PC%d' % (i+1))\n",
        "ax.set_ylabel('PC%d' % (j+1))\n",
        "for k in range(pca2.components_.shape[1]):\n",
        "    ax.annotate(USArrests.columns[k],\n",
        "                xy=(0,\n",
        "                    0),\n",
        "                xytext=(pca2.components_[i,k],\n",
        "                        pca2.components_[j,k]),\n",
        "                arrowprops=dict(arrowstyle= '<|-',lw=1.5,color='red',shrinkA=0,shrinkB=0),\n",
        "                color=\"red\")\n",
        "    # ax.plot([[0,0],[pcaUS.components_[i,k],pcaUS.components_[j,k]]],\n",
        "    #        '->',color=\"red\")\n",
        "\n",
        "for i in range(USArrests.shape[0]):\n",
        "    ax.text(x=scores[i,0],\n",
        "            y=scores[i,1],\n",
        "            s=USArrests.index[i],\n",
        "            alpha=0.7)"
      ]
    }
  ],
  "metadata": {
    "environment": {
      "kernel": "uvsq",
      "name": "tf2-gpu.2-6.m100",
      "type": "gcloud",
      "uri": "gcr.io/deeplearning-platform-release/tf2-gpu.2-6:m100"
    },
    "kernelspec": {
      "display_name": "uvsq",
      "language": "python",
      "name": "uvsq"
    },
    "language_info": {
      "codemirror_mode": {
        "name": "ipython",
        "version": 3
      },
      "file_extension": ".py",
      "mimetype": "text/x-python",
      "name": "python",
      "nbconvert_exporter": "python",
      "pygments_lexer": "ipython3",
      "version": "3.7.12"
    },
    "colab": {
      "provenance": [],
      "include_colab_link": true
    }
  },
  "nbformat": 4,
  "nbformat_minor": 5
}